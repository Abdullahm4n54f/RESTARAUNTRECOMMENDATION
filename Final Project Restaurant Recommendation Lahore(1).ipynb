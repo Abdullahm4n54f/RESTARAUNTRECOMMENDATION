{
 "cells": [
  {
   "cell_type": "code",
   "execution_count": null,
   "id": "9891a905",
   "metadata": {},
   "outputs": [],
   "source": [
    "import pandas as pd\n",
    "\n",
    "\n",
    "df = pd.read_excel(r'C:\\Users\\Aiza\\Downloads\\Restraunts Excel.xlsx')\n",
    "\n",
    "def findrestaurants(area, category, pricerange):\n",
    "    # Filter data\n",
    "    finddf = df[(df['Area'] == area) & (df['Category'] == category)]\n",
    "    pricemin, pricemax = map(int, pricerange.split('-'))\n",
    "    finddf = finddf[(finddf['Price Range'].str.split('-').str[0].astype(int) >= pricemin) & \n",
    "                    (finddf['Price Range'].str.split('-').str[1].astype(int) <= pricemax)]\n",
    "    return finddf\n",
    "#  input\n",
    "print(\"Area:\")\n",
    "print(\"1. Gulberg\")\n",
    "print(\"2. DHA\")\n",
    "print(\"3. Johar Town\")\n",
    "print(\"4. Walled City\")\n",
    "print(\"5. Others\")\n",
    "areachoice = int(input(\"Enter choice (1-5): \"))\n",
    "print(\"\\nCategory:\")\n",
    "print(\"1. Continental\")\n",
    "print(\"2. Chinese\")\n",
    "print(\"3. Desi\")\n",
    "print(\"4. Oriental\")\n",
    "categorychoice = int(input(\"Enter choice (1-4): \"))\n",
    "print(\"\\nPrice range:\")\n",
    "print(\"1. 1000-2000\")\n",
    "print(\"2. 2000-3000\")\n",
    "print(\"3. 3000-5000\")\n",
    "print(\"4. 5000-10000\")\n",
    "pricechoice = int(input(\"Enter choice (1-4): \"))\n",
    "\n",
    "# map  answers\n",
    "areadc = {1: 'Gulberg', 2: 'DHA', 3: 'Johar Town', 4: 'Walled City', 5: 'Others'}\n",
    "categorydc = {1: 'Continental', 2: 'Chinese', 3: 'Desi', 4: 'Oriental'}\n",
    "pricerangedc = {1: '1000-2000', 2: '2000-3000', 3: '3000-5000', 4: '5000-10000'}\n",
    "areadc = areadc[areachoice]\n",
    "categorydc = categorydc[categorychoice]\n",
    "pricerangedc = pricerangedc[pricechoice]\n",
    " \n",
    "founddata = findrestaurants(area, category, pricerange)\n",
    "print(\"\\nFiltered:\")\n",
    "print(founddata[['Restaurant Name', 'Area', 'Category', 'Price Range', 'Contact Number']])\n"
   ]
  },
  {
   "cell_type": "code",
   "execution_count": null,
   "id": "77a6559f",
   "metadata": {},
   "outputs": [],
   "source": []
  }
 ],
 "metadata": {
  "kernelspec": {
   "display_name": "Python 3 (ipykernel)",
   "language": "python",
   "name": "python3"
  },
  "language_info": {
   "codemirror_mode": {
    "name": "ipython",
    "version": 3
   },
   "file_extension": ".py",
   "mimetype": "text/x-python",
   "name": "python",
   "nbconvert_exporter": "python",
   "pygments_lexer": "ipython3",
   "version": "3.11.5"
  }
 },
 "nbformat": 4,
 "nbformat_minor": 5
}
